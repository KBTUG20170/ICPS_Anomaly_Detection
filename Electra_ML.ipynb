{
  "cells": [
    {
      "cell_type": "markdown",
      "source": [
        "# ML on Electra Dataset using PySpark\n",
        "###### *Samruddhi Khairnar*"
      ],
      "metadata": {
        "id": "id1yAug7D92Q"
      }
    },
    {
      "cell_type": "markdown",
      "source": [
        "#### 1. Downloading the Electra Dataset"
      ],
      "metadata": {
        "id": "G0NRwZ8eKDlY"
      }
    },
    {
      "cell_type": "code",
      "execution_count": null,
      "metadata": {
        "colab": {
          "base_uri": "https://localhost:8080/"
        },
        "id": "GfWxe2YFlBuF",
        "outputId": "d911ea5c-40fd-45b4-c6dc-83a8915a7c4b"
      },
      "outputs": [
        {
          "output_type": "stream",
          "name": "stdout",
          "text": [
            "--2023-05-30 15:40:02--  http://perception.inf.um.es/ICS-datasets/csv/electra_modbus.zip\n",
            "Resolving perception.inf.um.es (perception.inf.um.es)... 155.54.204.141\n",
            "Connecting to perception.inf.um.es (perception.inf.um.es)|155.54.204.141|:80... connected.\n",
            "HTTP request sent, awaiting response... 200 OK\n",
            "Length: 57856090 (55M) [application/zip]\n",
            "Saving to: ‘electra_modbus.zip.1’\n",
            "\n",
            "electra_modbus.zip. 100%[===================>]  55.18M  21.9MB/s    in 2.5s    \n",
            "\n",
            "2023-05-30 15:40:04 (21.9 MB/s) - ‘electra_modbus.zip.1’ saved [57856090/57856090]\n",
            "\n"
          ]
        }
      ],
      "source": [
        "!wget http://perception.inf.um.es/ICS-datasets/csv/electra_modbus.zip"
      ]
    },
    {
      "cell_type": "code",
      "execution_count": null,
      "metadata": {
        "colab": {
          "base_uri": "https://localhost:8080/"
        },
        "id": "4LBUG1gKmrnp",
        "outputId": "8ca17dda-125d-458e-8257-0c61aad63c8d"
      },
      "outputs": [
        {
          "output_type": "stream",
          "name": "stdout",
          "text": [
            "Looking in indexes: https://pypi.org/simple, https://us-python.pkg.dev/colab-wheels/public/simple/\n",
            "Requirement already satisfied: unzip in /usr/local/lib/python3.10/dist-packages (1.0.0)\n"
          ]
        }
      ],
      "source": [
        "!pip install unzip"
      ]
    },
    {
      "cell_type": "code",
      "execution_count": null,
      "metadata": {
        "colab": {
          "base_uri": "https://localhost:8080/"
        },
        "id": "Nl-k9Kqpmxwl",
        "outputId": "af3b8153-dda7-47df-ae02-81ff28a20ba4"
      },
      "outputs": [
        {
          "output_type": "stream",
          "name": "stdout",
          "text": [
            "Archive:  electra_modbus.zip\n",
            "replace electra_modbus.csv? [y]es, [n]o, [A]ll, [N]one, [r]ename: "
          ]
        }
      ],
      "source": [
        "!unzip electra_modbus.zip"
      ]
    },
    {
      "cell_type": "markdown",
      "source": [
        "#### 2. Loading the Electra Dataset"
      ],
      "metadata": {
        "id": "INKz8_EBKOr9"
      }
    },
    {
      "cell_type": "code",
      "execution_count": null,
      "metadata": {
        "id": "SMkAi88Wm1rw"
      },
      "outputs": [],
      "source": [
        "import pandas as pd"
      ]
    },
    {
      "cell_type": "code",
      "execution_count": null,
      "metadata": {
        "id": "nUZ-o6oSm6VA"
      },
      "outputs": [],
      "source": [
        "df_p = pd.read_csv('electra_modbus.csv')"
      ]
    },
    {
      "cell_type": "code",
      "execution_count": null,
      "metadata": {
        "colab": {
          "base_uri": "https://localhost:8080/"
        },
        "id": "8ZuaRp5BnLcY",
        "outputId": "09b30a7d-3f2f-4f7b-b018-5e1f152a2ffd"
      },
      "outputs": [
        {
          "output_type": "execute_result",
          "data": {
            "text/plain": [
              "0"
            ]
          },
          "metadata": {},
          "execution_count": 30
        }
      ],
      "source": [
        "df_p.isnull().sum().sum()"
      ]
    },
    {
      "cell_type": "markdown",
      "source": [
        "#### 3. Printing the unique values for the differentiating features"
      ],
      "metadata": {
        "id": "eoovwihPKSZE"
      }
    },
    {
      "cell_type": "markdown",
      "source": [
        "![](https://drive.google.com/uc?export=view&id=1hm0dXZyhNaY9qjRnND4g0iiO-RRVux8J)"
      ],
      "metadata": {
        "id": "3CIDAvIvFiKG"
      }
    },
    {
      "cell_type": "code",
      "source": [
        "{i:j for i,j in enumerate(df_p.smac.unique())}"
      ],
      "metadata": {
        "colab": {
          "base_uri": "https://localhost:8080/"
        },
        "id": "RbKQRwMaB---",
        "outputId": "9d8e1f8a-4fb5-4baa-cb00-75acb494d912"
      },
      "execution_count": null,
      "outputs": [
        {
          "output_type": "execute_result",
          "data": {
            "text/plain": [
              "{0: '00:1b:1b:c1:41:1b',\n",
              " 1: '08:00:27:79:b0:4a',\n",
              " 2: '00:0e:8c:e1:dd:58',\n",
              " 3: '00:0e:8c:e1:de:9c'}"
            ]
          },
          "metadata": {},
          "execution_count": 31
        }
      ]
    },
    {
      "cell_type": "code",
      "source": [
        "{i:j for i,j in enumerate(df_p.dmac.unique())}"
      ],
      "metadata": {
        "colab": {
          "base_uri": "https://localhost:8080/"
        },
        "id": "RdJdsNnICE6o",
        "outputId": "91ac0aab-b263-4211-a5f4-55813b00e927"
      },
      "execution_count": null,
      "outputs": [
        {
          "output_type": "execute_result",
          "data": {
            "text/plain": [
              "{0: '08:00:27:79:b0:4a',\n",
              " 1: '00:0e:8c:e1:dd:58',\n",
              " 2: '00:0e:8c:e1:de:9c',\n",
              " 3: '00:1b:1b:c1:41:1b'}"
            ]
          },
          "metadata": {},
          "execution_count": 32
        }
      ]
    },
    {
      "cell_type": "code",
      "source": [
        "{i:j for i,j in enumerate(df_p.sip.unique())}"
      ],
      "metadata": {
        "colab": {
          "base_uri": "https://localhost:8080/"
        },
        "id": "fxVfyeaYCHNd",
        "outputId": "247c4f3b-e355-40b5-ccb4-9290688979f6"
      },
      "execution_count": null,
      "outputs": [
        {
          "output_type": "execute_result",
          "data": {
            "text/plain": [
              "{0: '10.70.38.51', 1: '10.70.38.55', 2: '10.70.38.56', 3: '10.70.38.131'}"
            ]
          },
          "metadata": {},
          "execution_count": 33
        }
      ]
    },
    {
      "cell_type": "code",
      "source": [
        "{i:j for i,j in enumerate(df_p.dip.unique())}"
      ],
      "metadata": {
        "colab": {
          "base_uri": "https://localhost:8080/"
        },
        "id": "890KQvy7CKm_",
        "outputId": "b286120d-64ee-4f00-eaad-c9cc751e2975"
      },
      "execution_count": null,
      "outputs": [
        {
          "output_type": "execute_result",
          "data": {
            "text/plain": [
              "{0: '10.70.38.55', 1: '10.70.38.56', 2: '10.70.38.51', 3: '10.70.38.131'}"
            ]
          },
          "metadata": {},
          "execution_count": 34
        }
      ]
    },
    {
      "cell_type": "code",
      "source": [
        "{i:j for i,j in enumerate(df_p.label.unique())}"
      ],
      "metadata": {
        "colab": {
          "base_uri": "https://localhost:8080/"
        },
        "id": "od94bjs-CN-O",
        "outputId": "a7e39f57-0be4-48b9-e2f4-b49bc9b9b471"
      },
      "execution_count": null,
      "outputs": [
        {
          "output_type": "execute_result",
          "data": {
            "text/plain": [
              "{0: 'MITM_UNALTERED',\n",
              " 1: 'NORMAL',\n",
              " 2: 'RESPONSE_ATTACK',\n",
              " 3: 'FORCE_ERROR_ATTACK',\n",
              " 4: 'RECOGNITION_ATTACK',\n",
              " 5: 'WRITE_ATTACK',\n",
              " 6: 'READ_ATTACK',\n",
              " 7: 'REPLAY_ATTACK'}"
            ]
          },
          "metadata": {},
          "execution_count": 35
        }
      ]
    },
    {
      "cell_type": "markdown",
      "source": [
        "#### 4. Loading the dataset using Pyspark"
      ],
      "metadata": {
        "id": "ZNm7yPhzKlOs"
      }
    },
    {
      "cell_type": "code",
      "execution_count": null,
      "metadata": {
        "colab": {
          "base_uri": "https://localhost:8080/"
        },
        "id": "qag7e26bnu7G",
        "outputId": "3a913570-b198-423b-f55a-f94fa99fb394"
      },
      "outputs": [
        {
          "output_type": "stream",
          "name": "stdout",
          "text": [
            "Looking in indexes: https://pypi.org/simple, https://us-python.pkg.dev/colab-wheels/public/simple/\n",
            "Requirement already satisfied: pyspark in /usr/local/lib/python3.10/dist-packages (3.4.0)\n",
            "Requirement already satisfied: py4j==0.10.9.7 in /usr/local/lib/python3.10/dist-packages (from pyspark) (0.10.9.7)\n"
          ]
        }
      ],
      "source": [
        "!pip install pyspark"
      ]
    },
    {
      "cell_type": "code",
      "source": [
        "import pyspark\n",
        "from pyspark.sql import SparkSession\n",
        "from pyspark.sql.types import StructType\n",
        "from pyspark.ml.feature import OneHotEncoder\n",
        "from pyspark.ml.feature import StringIndexer\n",
        "from pyspark.ml.classification import LinearSVC, OneVsRest, OneVsRestModel\n",
        "from pyspark.ml.evaluation import MulticlassClassificationEvaluator\n",
        "from pyspark.ml.feature import VectorAssembler\n",
        "from pyspark.ml import Pipeline"
      ],
      "metadata": {
        "id": "vswTdhUbKbbe"
      },
      "execution_count": null,
      "outputs": []
    },
    {
      "cell_type": "markdown",
      "source": [
        "#### 5. Creating a Spark session"
      ],
      "metadata": {
        "id": "i4uCelj9Ky4S"
      }
    },
    {
      "cell_type": "code",
      "source": [
        "spark = SparkSession.builder.master(\"local\").appName(\"electra\").getOrCreate()"
      ],
      "metadata": {
        "id": "kbGz9qMhKxZS"
      },
      "execution_count": null,
      "outputs": []
    },
    {
      "cell_type": "markdown",
      "source": [
        "#### 6. Creating a Schema to load the CSV dataset"
      ],
      "metadata": {
        "id": "wnCgyTUtLBvn"
      }
    },
    {
      "cell_type": "code",
      "source": [
        "electraSchema = StructType() \\\n",
        "                        .add(\"Time\", \"integer\")\\\n",
        "                        .add(\"smac\", \"string\")\\\n",
        "                        .add(\"dmac\", \"string\")\\\n",
        "                        .add(\"sip\", \"string\")\\\n",
        "                        .add(\"dip\", \"string\")\\\n",
        "                        .add(\"request\", \"integer\")\\\n",
        "                        .add(\"fc\", \"integer\")\\\n",
        "                        .add(\"error\", \"integer\")\\\n",
        "                        .add(\"address\", \"integer\")\\\n",
        "                        .add(\"data\", \"integer\")\\\n",
        "                        .add(\"label\", \"string\")"
      ],
      "metadata": {
        "id": "pA3rbBxrLAXq"
      },
      "execution_count": null,
      "outputs": []
    },
    {
      "cell_type": "markdown",
      "source": [
        "#### 7. Loading the electra-modbus.csv, from the electra directory in HDFS\n",
        "##### No need to specify the file name, dir name works"
      ],
      "metadata": {
        "id": "FNVh42omLkJq"
      }
    },
    {
      "cell_type": "code",
      "source": [
        "data = spark.read.option(\"header\",\"true\").csv(\"hdfs://localhost:9000/electra\",schema=electraSchema)"
      ],
      "metadata": {
        "id": "NThrsTUCK8C8"
      },
      "execution_count": null,
      "outputs": []
    },
    {
      "cell_type": "code",
      "execution_count": null,
      "metadata": {
        "colab": {
          "base_uri": "https://localhost:8080/"
        },
        "id": "Rk7lJcJdovaE",
        "outputId": "daf43e31-70ae-46a7-a3d9-2f37c1ef5e80"
      },
      "outputs": [
        {
          "output_type": "stream",
          "name": "stdout",
          "text": [
            "+----+-----------------+-----------------+-----------+-----------+-------+---+-----+-------+----+--------------+\n",
            "|Time|             smac|             dmac|        sip|        dip|request| fc|error|address|data|         label|\n",
            "+----+-----------------+-----------------+-----------+-----------+-------+---+-----+-------+----+--------------+\n",
            "|   0|00:1b:1b:c1:41:1b|08:00:27:79:b0:4a|10.70.38.51|10.70.38.55|      1|  3|    0|      1|  68|MITM_UNALTERED|\n",
            "+----+-----------------+-----------------+-----------+-----------+-------+---+-----+-------+----+--------------+\n",
            "only showing top 1 row\n",
            "\n"
          ]
        }
      ],
      "source": [
        "data.show(1)"
      ]
    },
    {
      "cell_type": "markdown",
      "source": [
        "#### 8. Pipeline for ML training - OneHotEncoding + training SVM using OnevsRest"
      ],
      "metadata": {
        "id": "qSLnk-DaK6p3"
      }
    },
    {
      "cell_type": "code",
      "execution_count": null,
      "metadata": {
        "id": "OK9hc6uuqDf-"
      },
      "outputs": [],
      "source": [
        "# Mapping string columns to their label indices\n",
        "indexer = StringIndexer(inputCols=['smac','dmac','sip','dip','label'], outputCols=['smac_d','dmac_d','sip_d','dip_d','label_d'])\n",
        "\n",
        "# Mapping categorical columns of label indices to binary columns\n",
        "encoder = OneHotEncoder(inputCols=['smac_d','dmac_d','sip_d','dip_d'], outputCols=['smac_en','dmac_en','sip_en','dip_en'])\n",
        "\n",
        "# Creating a vector for ML training\n",
        "va = VectorAssembler(inputCols = ['Time', 'smac_en', 'dmac_en', 'sip_en', 'dip_en', 'request', 'fc', 'error', 'address', 'data'], outputCol='features', handleInvalid='skip')\n",
        "\n",
        "# SVM using OneVsRest approach\n",
        "lsvc = LinearSVC()\n",
        "ovr = OneVsRest(classifier=lsvc, featuresCol='features', labelCol=\"label_d\")"
      ]
    },
    {
      "cell_type": "code",
      "source": [
        "pipeline = Pipeline(stages = [indexer, encoder, va, ovr])"
      ],
      "metadata": {
        "id": "uAO8OE3DQ1kZ"
      },
      "execution_count": null,
      "outputs": []
    },
    {
      "cell_type": "code",
      "source": [
        "model = pipeline.fit(data)"
      ],
      "metadata": {
        "id": "8a8gZt9cQ3nd"
      },
      "execution_count": null,
      "outputs": []
    },
    {
      "cell_type": "code",
      "execution_count": null,
      "metadata": {
        "id": "xrLyNDrTqK_a",
        "colab": {
          "base_uri": "https://localhost:8080/"
        },
        "outputId": "e061df6b-7107-4b69-b216-982a3cb039d9"
      },
      "outputs": [
        {
          "output_type": "stream",
          "name": "stdout",
          "text": [
            "+--------------------+-----+\n",
            "|            features|label|\n",
            "+--------------------+-----+\n",
            "|(18,[5,9,13,14,16...|  1.0|\n",
            "+--------------------+-----+\n",
            "only showing top 1 row\n",
            "\n"
          ]
        }
      ],
      "source": [
        "data.show(1)"
      ]
    },
    {
      "cell_type": "markdown",
      "source": [
        "#### 9. Saving the trained model for prediction"
      ],
      "metadata": {
        "id": "crmeJE6sUNnU"
      }
    },
    {
      "cell_type": "code",
      "source": [
        "model.write().overwrite().save('electra-model')"
      ],
      "metadata": {
        "id": "eh3fkadoNxzI"
      },
      "execution_count": null,
      "outputs": []
    },
    {
      "cell_type": "markdown",
      "source": [
        "#### 10. Evaluating the model accuracy\n",
        "\n"
      ],
      "metadata": {
        "id": "9-_2cn2BLh1a"
      }
    },
    {
      "cell_type": "code",
      "execution_count": null,
      "metadata": {
        "id": "70cl8PZ2qmhr"
      },
      "outputs": [],
      "source": [
        "train, test = data.randomSplit([0.9, 0.1])"
      ]
    },
    {
      "cell_type": "code",
      "execution_count": null,
      "metadata": {
        "id": "vI2qoSvluPDm",
        "colab": {
          "base_uri": "https://localhost:8080/"
        },
        "outputId": "4bde3498-3d55-47ba-d865-060de940692d"
      },
      "outputs": [
        {
          "output_type": "stream",
          "name": "stdout",
          "text": [
            "+--------------------+-----+\n",
            "|            features|label|\n",
            "+--------------------+-----+\n",
            "|(18,[0,1,4,7,10,1...|  0.0|\n",
            "|(18,[0,1,4,7,10,1...|  0.0|\n",
            "|(18,[0,1,4,7,10,1...|  0.0|\n",
            "|(18,[0,1,4,7,10,1...|  0.0|\n",
            "|(18,[0,1,4,7,10,1...|  0.0|\n",
            "|(18,[0,1,4,7,10,1...|  0.0|\n",
            "|(18,[0,1,4,7,10,1...|  0.0|\n",
            "|(18,[0,1,4,7,10,1...|  0.0|\n",
            "|(18,[0,1,4,7,10,1...|  0.0|\n",
            "|(18,[0,1,4,7,10,1...|  0.0|\n",
            "+--------------------+-----+\n",
            "only showing top 10 rows\n",
            "\n"
          ]
        }
      ],
      "source": [
        "train.show(10)"
      ]
    },
    {
      "cell_type": "code",
      "execution_count": null,
      "metadata": {
        "id": "HYLNWDjinssm",
        "colab": {
          "base_uri": "https://localhost:8080/"
        },
        "outputId": "7b58444a-3795-4359-8794-65e8dee877ea"
      },
      "outputs": [
        {
          "output_type": "stream",
          "name": "stdout",
          "text": [
            "+--------------------+-----+----------+\n",
            "|            features|label|prediction|\n",
            "+--------------------+-----+----------+\n",
            "|(18,[0,1,4,7,10,1...|  0.0|       0.0|\n",
            "|(18,[0,1,4,7,10,1...|  0.0|       0.0|\n",
            "|(18,[0,1,4,7,10,1...|  0.0|       0.0|\n",
            "|(18,[0,1,4,7,10,1...|  0.0|       0.0|\n",
            "|(18,[0,1,4,7,10,1...|  0.0|       0.0|\n",
            "|(18,[0,1,4,7,10,1...|  0.0|       0.0|\n",
            "|(18,[0,1,4,7,10,1...|  0.0|       0.0|\n",
            "|(18,[0,1,4,7,10,1...|  0.0|       0.0|\n",
            "|(18,[0,1,4,7,10,1...|  0.0|       0.0|\n",
            "|(18,[0,1,4,7,10,1...|  0.0|       0.0|\n",
            "+--------------------+-----+----------+\n",
            "only showing top 10 rows\n",
            "\n",
            "Test accuracy =  0.9975959398094559\n"
          ]
        }
      ],
      "source": [
        "pred = model.transform(test)\n",
        "\n",
        "pred.select(\"features\", \"label\", \"prediction\").show(10)\n",
        "\n",
        "eval =  MulticlassClassificationEvaluator().setMetricName('accuracy')\n",
        "accuracy = eval.evaluate(pred)\n",
        "print('Test accuracy = ',accuracy)"
      ]
    },
    {
      "cell_type": "markdown",
      "source": [
        "#### 8. Loading the trained model"
      ],
      "metadata": {
        "id": "SYHgEpzGLxNr"
      }
    },
    {
      "cell_type": "code",
      "source": [
        "model = OneVsRestModel.load('electra-model')"
      ],
      "metadata": {
        "id": "kYgWO6Bi3bqi"
      },
      "execution_count": null,
      "outputs": []
    }
  ],
  "metadata": {
    "colab": {
      "provenance": []
    },
    "kernelspec": {
      "display_name": "Python 3",
      "name": "python3"
    },
    "language_info": {
      "name": "python"
    }
  },
  "nbformat": 4,
  "nbformat_minor": 0
}