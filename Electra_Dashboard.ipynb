{
  "nbformat": 4,
  "nbformat_minor": 0,
  "metadata": {
    "colab": {
      "provenance": []
    },
    "kernelspec": {
      "name": "python3",
      "display_name": "Python 3"
    },
    "language_info": {
      "name": "python"
    }
  },
  "cells": [
    {
      "cell_type": "markdown",
      "source": [
        "#### dash_bootstrap_components = Cooked up HTML, CSS code\n",
        "##### https://dash-bootstrap-components.opensource.faculty.ai/docs/components/\n",
        "\n",
        "#### Dash = Library for plotting, using Python\n",
        "##### https://dash.plotly.com/dash-core-components/graph"
      ],
      "metadata": {
        "id": "25YkE3n9oQum"
      }
    },
    {
      "cell_type": "code",
      "source": [
        "import pandas as pd\n",
        "from dash import Dash, dcc, html\n",
        "from dash.dependencies import Output, Input\n",
        "import plotly\n",
        "import plotly.graph_objs as go\n",
        "import dash_bootstrap_components as dbc\n",
        "from datetime import datetime"
      ],
      "metadata": {
        "id": "5lyyE14AnyKU"
      },
      "execution_count": null,
      "outputs": []
    },
    {
      "cell_type": "code",
      "execution_count": null,
      "metadata": {
        "id": "XKqCi6D-nOSi"
      },
      "outputs": [],
      "source": [
        "# Constants\n",
        "external_stylesheets = [dbc.themes.BOOTSTRAP, 'https://cdn.plot.ly/plotly-basic-2.12.1.min.js']\n",
        "app = Dash(__name__, external_stylesheets=external_stylesheets)\n",
        "colors = ['rgba(31, 74, 194,0.7)', 'rgb(31, 194, 72)', 'rgb(255, 0, 0)', 'rgb(255, 0, 0)', 'rgb(255, 0, 0)','rgb(255, 0, 0)', 'rgb(255, 0, 0)','rgb(255, 0, 0)']\n",
        "\n",
        "# Storing all the attack labels and features, for later use\n",
        "names = ['MITM_UNALTERED','NORMAL','RESPONSE_ATTACK','FORCE_ERROR_ATTACK','RECOGNITION_ATTACK','WRITE_ATTACK','READ_ATTACK','REPLAY_ATTACK']\n",
        "params = ['Time', 'smac', 'dmac', 'sip', 'dip', 'request', 'fc', 'error','address', 'data']"
      ]
    },
    {
      "cell_type": "markdown",
      "source": [
        "#### Read the d.csv in to a dataframe"
      ],
      "metadata": {
        "id": "wbJSU65WpzLy"
      }
    },
    {
      "cell_type": "code",
      "source": [
        "# Read the initial dataframe\n",
        "df = pd.read_csv('d.csv')\n",
        "\n",
        "# Constants for all graphs\n",
        "groups = None\n",
        "l = None\n",
        "marker = None\n",
        "color = None"
      ],
      "metadata": {
        "id": "SjfxMw8Gpxgs"
      },
      "execution_count": null,
      "outputs": []
    },
    {
      "cell_type": "markdown",
      "source": [
        "#### Preparing a layout grid (Rows and columns), to add the graphs and data to"
      ],
      "metadata": {
        "id": "LNNJe5DosEOD"
      }
    },
    {
      "cell_type": "markdown",
      "source": [
        "![](https://drive.google.com/uc?export=view&id=1ipGCPSUqY1qNL_NtPRgCZ-1A9GxeRByG)"
      ],
      "metadata": {
        "id": "PzRKhu4ZqB07"
      }
    },
    {
      "cell_type": "code",
      "source": [
        "# Render the HTML Grid\n",
        "app.layout = html.Div( # Div containing the Row-Col structure for the dashboard\n",
        "        [\n",
        "            html.Br(), # HTML tags in DBC\n",
        "            dbc.Row([\n",
        "                dbc.Col(dbc.Row([\n",
        "                    html.B(id='time', style={'textAlign': 'end'}), html.I(children='Samruddhi K', style={'textAlign': 'end'})\n",
        "                ]), width=1),\n",
        "                dbc.Col(html.H2(children=\"Anomaly Detection in ICPS simulated using the Electra Dataset\", style={'textAlign': 'center'}), width=11)\n",
        "            ]),\n",
        "            dbc.Row( # This is the stucture using placeholders for each graph component, identified with an id, the actual graph code is defined below.\n",
        "                [\n",
        "                    dbc.Col(dcc.Graph(id='addr', animate=True), width=4), # Graph components(defined below) in Columns\n",
        "                    dbc.Col(dcc.Graph(id='req', animate=True), width=4), # Bootstrap screen width = 12 row units\n",
        "                    dbc.Col(dcc.Graph(id='err', animate=True), width=4),\n",
        "                ],\n",
        "                className=\"g-0\", # Remove gutter (horizontal padding)\n",
        "            ),\n",
        "            dbc.Row(\n",
        "                [\n",
        "                    dbc.Col([\n",
        "                        dbc.Row([\n",
        "                            dbc.Col(dcc.Graph(id='data', animate=True), width=6),\n",
        "                            dbc.Col(dcc.Graph(id='fc', animate=True), width=6),\n",
        "                        ], className=\"g-0\"),\n",
        "                        html.Br(),\n",
        "                        dbc.Row(\n",
        "                            dbc.Col(width={'offset':1}, id='prediction'),\n",
        "                        )\n",
        "                    ], width=8),\n",
        "                    dbc.Col(\n",
        "                        dbc.Row([html.H6(children='Parameters of the latest data point', style={'textAlign': 'center'}),\n",
        "                            html.Div(id='table')\n",
        "                        ]),\n",
        "                        style={'marginTop': '10px', 'fontSize':13}, width=4)\n",
        "                ],\n",
        "                className=\"g-0\",\n",
        "            ),\n",
        "            dcc.Interval(\n",
        "                id='interval-component',\n",
        "                interval=3*1000, # milliseconds - Reload the graphs after 3 seconds\n",
        "            )\n",
        "        ],\n",
        "    )"
      ],
      "metadata": {
        "id": "LyyYGIx2qAkK"
      },
      "execution_count": null,
      "outputs": []
    },
    {
      "cell_type": "markdown",
      "source": [
        "#### Each component is refreshed after the above said interval - 3 seconds"
      ],
      "metadata": {
        "id": "qAy4u2296Fg1"
      }
    },
    {
      "cell_type": "code",
      "source": [
        "# A decorator for the time component of the dashboard - uses the defined inteval as the input and outputs time to the children attribute of html component having id = time.\n",
        "@app.callback([Output('time','children')], [Input('interval-component', 'n_intervals')])\n",
        "def show_time(n):\n",
        "    # Show Current Time\n",
        "    now = datetime.now()\n",
        "    current_time = now.strftime(\"%H:%M:%S\")\n",
        "    return [current_time]"
      ],
      "metadata": {
        "id": "KosyyXGJpuRM"
      },
      "execution_count": null,
      "outputs": []
    },
    {
      "cell_type": "code",
      "source": [
        "# Update the graph component, having id = addr's figure attribute\n",
        "@app.callback([Output('addr','figure')], [Input('interval-component', 'n_intervals')])\n",
        "def g1(n):\n",
        "    global df, groups, l, marker, color\n",
        "\n",
        "    # Read d.csv into a dataframe (updated every 3 seconds as per set interval)\n",
        "    df = pd.read_csv('d.csv')\n",
        "    groups = df.groupby('label') # Group points by the attack label, for similar colors\n",
        "\n",
        "    # Getting the last record from the dataframe of d.csv (latest data point)\n",
        "    l = df.tail(1)\n",
        "\n",
        "    # Color the latest data point as per the label\n",
        "    color = 'rgba(31, 74, 194,0.7)' if list(l['label'])[0] == 'MITM_UNALTERED' else 'rgb(31, 194, 72)' if list(l['label'])[0] == 'NORMAL' else 'rgb(255, 0, 0)'\n",
        "\n",
        "    # Define a marker / border to the latest data point\n",
        "    marker = dict(line=dict(color='black',width=3), color=color, size=20)\n",
        "\n",
        "    # Plot Address vs Time graph for the updated dataframe (all remaining points plotted, using scatter plot), using above defined colors\n",
        "    x = 'Address'\n",
        "    data = []\n",
        "    for group,dataframe in groups:\n",
        "        i = names.index(group)\n",
        "        trace = go.Scatter(x=dataframe.Time.tolist(), y=dataframe[x.lower()].tolist(), marker=dict(color=colors[i], size=10), mode='lines+markers', name=group)\n",
        "        data.append(trace)\n",
        "\n",
        "    # Add the latest point's marker to the plot / trace\n",
        "    trace = go.Scatter(x=[list(l['Time'])[0]], y=[list(l['address'])[0]], marker=marker, mode='markers', name='Latest')\n",
        "    data.append(trace)\n",
        "\n",
        "    # Draw the graph component and return it\n",
        "    layout = go.Layout(xaxis={'title': 'Time'}, yaxis={'title': x.lower()}, width=450, height=250, showlegend=(False if x!='Error' else True), margin=dict(r=0, t=10, b=10))\n",
        "    figure = go.Figure(data=data, layout=layout)\n",
        "    return [figure]"
      ],
      "metadata": {
        "id": "jVrMljF76xBq"
      },
      "execution_count": null,
      "outputs": []
    },
    {
      "cell_type": "markdown",
      "source": [
        "#### Similarly, 4 other features are plotted vs Time"
      ],
      "metadata": {
        "id": "Z77tupA6I-a4"
      }
    },
    {
      "cell_type": "code",
      "source": [
        "@app.callback([Output('req','figure')], [Input('interval-component', 'n_intervals')])\n",
        "def g2(n):\n",
        "    global df, groups, l, marker, color\n",
        "\n",
        "    # Plot graph-2 for the updated dataframe\n",
        "    x = 'Request'\n",
        "    data = []\n",
        "    for group,dataframe in groups:\n",
        "        i = names.index(group)\n",
        "        trace = go.Scatter(x=dataframe.Time.tolist(), y=dataframe[x.lower()].tolist(), marker=dict(color=colors[i], size=10), mode='lines+markers', name=group)\n",
        "        data.append(trace)\n",
        "    trace = go.Scatter(x=[list(l['Time'])[0]], y=[list(l['request'])[0]], marker=marker, mode='markers', name='Latest')\n",
        "    data.append(trace)\n",
        "    layout = go.Layout(xaxis={'title': 'Time'}, yaxis={'title': x.lower()}, width=450, height=250, showlegend=(False if x!='Error' else True), margin=dict(r=0, t=10, b=10))\n",
        "    figure = go.Figure(data=data, layout=layout)\n",
        "    return [figure]\n",
        "\n",
        "@app.callback([Output('err','figure')], [Input('interval-component', 'n_intervals')])\n",
        "def g3(n):\n",
        "    global df, groups, l, marker, color\n",
        "\n",
        "    # Plot graph-3 for the updated dataframe\n",
        "    x = 'Error'\n",
        "    data = []\n",
        "    for group,dataframe in groups:\n",
        "        i = names.index(group)\n",
        "        trace = go.Scatter(x=dataframe.Time.tolist(), y=dataframe[x.lower()].tolist(), marker=dict(color=colors[i], size=10), mode='lines+markers', name=group)\n",
        "        data.append(trace)\n",
        "    trace = go.Scatter(x=[list(l['Time'])[0]], y=[list(l['error'])[0]], marker=marker, mode='markers', name='Latest')\n",
        "    data.append(trace)\n",
        "    layout = go.Layout(xaxis={'title': 'Time'}, yaxis={'title': x.lower()}, width=450, height=250, showlegend=(False if x!='Error' else True), margin=dict(r=0, t=10, b=10))\n",
        "    figure = go.Figure(data=data, layout=layout)\n",
        "    return [figure]\n",
        "\n",
        "@app.callback([Output('data','figure')], [Input('interval-component', 'n_intervals')])\n",
        "def g4(n):\n",
        "    global df, groups, l, marker, color\n",
        "\n",
        "    # Plot graph-4 for the updated dataframe\n",
        "    x = 'Data'\n",
        "    data = []\n",
        "    for group,dataframe in groups:\n",
        "        i = names.index(group)\n",
        "        trace = go.Scatter(x=dataframe.Time.tolist(), y=dataframe[x.lower()].tolist(), marker=dict(color=colors[i], size=10), mode='lines+markers', name=group)\n",
        "        data.append(trace)\n",
        "    trace = go.Scatter(x=[list(l['Time'])[0]], y=[list(l['data'])[0]], marker=marker, mode='markers', name='Latest')\n",
        "    data.append(trace)\n",
        "    layout = go.Layout(xaxis={'title': 'Time'}, yaxis={'title': x.lower()}, width=450, height=250, showlegend=(False if x!='Error' else True), margin=dict(r=0, t=10, b=10))\n",
        "    figure = go.Figure(data=data, layout=layout)\n",
        "    return [figure]\n",
        "\n",
        "@app.callback([Output('fc','figure')], [Input('interval-component', 'n_intervals')])\n",
        "def g5(n):\n",
        "    global df, groups, l, marker, color\n",
        "\n",
        "    # Plot graph-5 for the updated dataframe\n",
        "    x = 'FC'\n",
        "    data = []\n",
        "    for group,dataframe in groups:\n",
        "        i = names.index(group)\n",
        "        trace = go.Scatter(x=dataframe.Time.tolist(), y=dataframe[x.lower()].tolist(), marker=dict(color=colors[i], size=10), mode='lines+markers', name=group)\n",
        "        data.append(trace)\n",
        "    trace = go.Scatter(x=[list(l['Time'])[0]], y=[list(l['fc'])[0]], marker=marker, mode='markers', name='Latest')\n",
        "    data.append(trace)\n",
        "    layout = go.Layout(xaxis={'title': 'Time'}, yaxis={'title': x.lower()}, width=450, height=250, showlegend=(False if x!='Error' else True), margin=dict(r=0, t=10, b=10))\n",
        "    figure = go.Figure(data=data, layout=layout)\n",
        "    return [figure]"
      ],
      "metadata": {
        "id": "yAD-HAdi6tGr"
      },
      "execution_count": null,
      "outputs": []
    },
    {
      "cell_type": "markdown",
      "source": [
        "##### Show the prediction of the latest data point, on the dashboard"
      ],
      "metadata": {
        "id": "7DvYpmxPJNsI"
      }
    },
    {
      "cell_type": "code",
      "source": [
        "@app.callback([Output('prediction','children')], [Input('interval-component', 'n_intervals')])\n",
        "def pred(n):\n",
        "    global l, color\n",
        "    return [html.H2(children=list(l['label'])[0], style={'textAlign': 'start', 'color':color})]"
      ],
      "metadata": {
        "id": "85qNOW7DJK04"
      },
      "execution_count": null,
      "outputs": []
    },
    {
      "cell_type": "markdown",
      "source": [
        "##### And the parameters of the latest data point (consumed by the Consumer), as a table"
      ],
      "metadata": {
        "id": "ftSTlJCzJgBy"
      }
    },
    {
      "cell_type": "code",
      "source": [
        "@app.callback([Output('table','children')], [Input('interval-component', 'n_intervals')])\n",
        "def tab(n):\n",
        "    global l\n",
        "    # Make a table of the values of the current data point\n",
        "    values = [list(l[x])[0] for x in params]\n",
        "    table_body = [html.Tbody([html.Tr([html.Td(x, style={'paddingTop': '3px', 'paddingBottom': '3px'}), html.Td(values[i], style={'paddingTop': '3px', 'paddingBottom': '3px'})]) for i,x in enumerate(params)])]\n",
        "    table = dbc.Table(table_body, bordered=True, style={'width':300,'marginLeft': 'auto', 'marginRight': 'auto'})\n",
        "    return [table]"
      ],
      "metadata": {
        "id": "4UBAJqaXJM-D"
      },
      "execution_count": null,
      "outputs": []
    },
    {
      "cell_type": "markdown",
      "source": [
        "##### Run the Dash app on localhost"
      ],
      "metadata": {
        "id": "L9Xi6BwEnjqI"
      }
    },
    {
      "cell_type": "code",
      "source": [
        "if __name__ == \"__main__\":\n",
        "    app.run_server(host= '0.0.0.0', debug=False)"
      ],
      "metadata": {
        "id": "MtySG81Rni6o"
      },
      "execution_count": null,
      "outputs": []
    }
  ]
}